{
 "cells": [
  {
   "cell_type": "markdown",
   "id": "4be95bca",
   "metadata": {},
   "source": [
    "# Laptop Price Prediction"
   ]
  },
  {
   "cell_type": "code",
   "execution_count": 42,
   "id": "7851584b",
   "metadata": {},
   "outputs": [],
   "source": [
    "import numpy as np \n",
    "import pandas as pd \n",
    "import matplotlib.pyplot as plt\n",
    "import seaborn as sns"
   ]
  },
  {
   "cell_type": "markdown",
   "id": "ce8d58e9",
   "metadata": {},
   "source": [
    "# Data Exploration"
   ]
  },
  {
   "cell_type": "code",
   "execution_count": 43,
   "id": "e52b697f",
   "metadata": {},
   "outputs": [],
   "source": [
    "df = pd.read_csv('laptopPrice.csv')"
   ]
  },
  {
   "cell_type": "code",
   "execution_count": 44,
   "id": "7efe6a60",
   "metadata": {},
   "outputs": [
    {
     "data": {
      "text/plain": [
       "(823, 19)"
      ]
     },
     "execution_count": 44,
     "metadata": {},
     "output_type": "execute_result"
    }
   ],
   "source": [
    "df.shape"
   ]
  },
  {
   "cell_type": "code",
   "execution_count": 45,
   "id": "a0325116",
   "metadata": {},
   "outputs": [
    {
     "name": "stdout",
     "output_type": "stream",
     "text": [
      "<class 'pandas.core.frame.DataFrame'>\n",
      "RangeIndex: 823 entries, 0 to 822\n",
      "Data columns (total 19 columns):\n",
      " #   Column             Non-Null Count  Dtype \n",
      "---  ------             --------------  ----- \n",
      " 0   brand              823 non-null    object\n",
      " 1   processor_brand    823 non-null    object\n",
      " 2   processor_name     823 non-null    object\n",
      " 3   processor_gnrtn    823 non-null    object\n",
      " 4   ram_gb             823 non-null    object\n",
      " 5   ram_type           823 non-null    object\n",
      " 6   ssd                823 non-null    object\n",
      " 7   hdd                823 non-null    object\n",
      " 8   os                 823 non-null    object\n",
      " 9   os_bit             823 non-null    object\n",
      " 10  graphic_card_gb    823 non-null    object\n",
      " 11  weight             823 non-null    object\n",
      " 12  warranty           823 non-null    object\n",
      " 13  Touchscreen        823 non-null    object\n",
      " 14  msoffice           823 non-null    object\n",
      " 15  Price              823 non-null    int64 \n",
      " 16  rating             823 non-null    object\n",
      " 17  Number of Ratings  823 non-null    int64 \n",
      " 18  Number of Reviews  823 non-null    int64 \n",
      "dtypes: int64(3), object(16)\n",
      "memory usage: 122.3+ KB\n"
     ]
    }
   ],
   "source": [
    "df.info()"
   ]
  },
  {
   "cell_type": "code",
   "execution_count": 46,
   "id": "edd90e42",
   "metadata": {},
   "outputs": [
    {
     "data": {
      "text/html": [
       "<div>\n",
       "<style scoped>\n",
       "    .dataframe tbody tr th:only-of-type {\n",
       "        vertical-align: middle;\n",
       "    }\n",
       "\n",
       "    .dataframe tbody tr th {\n",
       "        vertical-align: top;\n",
       "    }\n",
       "\n",
       "    .dataframe thead th {\n",
       "        text-align: right;\n",
       "    }\n",
       "</style>\n",
       "<table border=\"1\" class=\"dataframe\">\n",
       "  <thead>\n",
       "    <tr style=\"text-align: right;\">\n",
       "      <th></th>\n",
       "      <th>brand</th>\n",
       "      <th>processor_brand</th>\n",
       "      <th>processor_name</th>\n",
       "      <th>processor_gnrtn</th>\n",
       "      <th>ram_gb</th>\n",
       "      <th>ram_type</th>\n",
       "      <th>ssd</th>\n",
       "      <th>hdd</th>\n",
       "      <th>os</th>\n",
       "      <th>os_bit</th>\n",
       "      <th>graphic_card_gb</th>\n",
       "      <th>weight</th>\n",
       "      <th>warranty</th>\n",
       "      <th>Touchscreen</th>\n",
       "      <th>msoffice</th>\n",
       "      <th>Price</th>\n",
       "      <th>rating</th>\n",
       "      <th>Number of Ratings</th>\n",
       "      <th>Number of Reviews</th>\n",
       "    </tr>\n",
       "  </thead>\n",
       "  <tbody>\n",
       "    <tr>\n",
       "      <th>0</th>\n",
       "      <td>ASUS</td>\n",
       "      <td>Intel</td>\n",
       "      <td>Core i3</td>\n",
       "      <td>10th</td>\n",
       "      <td>4 GB</td>\n",
       "      <td>DDR4</td>\n",
       "      <td>0 GB</td>\n",
       "      <td>1024 GB</td>\n",
       "      <td>Windows</td>\n",
       "      <td>64-bit</td>\n",
       "      <td>0 GB</td>\n",
       "      <td>Casual</td>\n",
       "      <td>No warranty</td>\n",
       "      <td>No</td>\n",
       "      <td>No</td>\n",
       "      <td>34649</td>\n",
       "      <td>2 stars</td>\n",
       "      <td>3</td>\n",
       "      <td>0</td>\n",
       "    </tr>\n",
       "    <tr>\n",
       "      <th>1</th>\n",
       "      <td>Lenovo</td>\n",
       "      <td>Intel</td>\n",
       "      <td>Core i3</td>\n",
       "      <td>10th</td>\n",
       "      <td>4 GB</td>\n",
       "      <td>DDR4</td>\n",
       "      <td>0 GB</td>\n",
       "      <td>1024 GB</td>\n",
       "      <td>Windows</td>\n",
       "      <td>64-bit</td>\n",
       "      <td>0 GB</td>\n",
       "      <td>Casual</td>\n",
       "      <td>No warranty</td>\n",
       "      <td>No</td>\n",
       "      <td>No</td>\n",
       "      <td>38999</td>\n",
       "      <td>3 stars</td>\n",
       "      <td>65</td>\n",
       "      <td>5</td>\n",
       "    </tr>\n",
       "    <tr>\n",
       "      <th>2</th>\n",
       "      <td>Lenovo</td>\n",
       "      <td>Intel</td>\n",
       "      <td>Core i3</td>\n",
       "      <td>10th</td>\n",
       "      <td>4 GB</td>\n",
       "      <td>DDR4</td>\n",
       "      <td>0 GB</td>\n",
       "      <td>1024 GB</td>\n",
       "      <td>Windows</td>\n",
       "      <td>64-bit</td>\n",
       "      <td>0 GB</td>\n",
       "      <td>Casual</td>\n",
       "      <td>No warranty</td>\n",
       "      <td>No</td>\n",
       "      <td>No</td>\n",
       "      <td>39999</td>\n",
       "      <td>3 stars</td>\n",
       "      <td>8</td>\n",
       "      <td>1</td>\n",
       "    </tr>\n",
       "    <tr>\n",
       "      <th>3</th>\n",
       "      <td>ASUS</td>\n",
       "      <td>Intel</td>\n",
       "      <td>Core i5</td>\n",
       "      <td>10th</td>\n",
       "      <td>8 GB</td>\n",
       "      <td>DDR4</td>\n",
       "      <td>512 GB</td>\n",
       "      <td>0 GB</td>\n",
       "      <td>Windows</td>\n",
       "      <td>32-bit</td>\n",
       "      <td>2 GB</td>\n",
       "      <td>Casual</td>\n",
       "      <td>No warranty</td>\n",
       "      <td>No</td>\n",
       "      <td>No</td>\n",
       "      <td>69990</td>\n",
       "      <td>3 stars</td>\n",
       "      <td>0</td>\n",
       "      <td>0</td>\n",
       "    </tr>\n",
       "    <tr>\n",
       "      <th>4</th>\n",
       "      <td>ASUS</td>\n",
       "      <td>Intel</td>\n",
       "      <td>Celeron Dual</td>\n",
       "      <td>Not Available</td>\n",
       "      <td>4 GB</td>\n",
       "      <td>DDR4</td>\n",
       "      <td>0 GB</td>\n",
       "      <td>512 GB</td>\n",
       "      <td>Windows</td>\n",
       "      <td>64-bit</td>\n",
       "      <td>0 GB</td>\n",
       "      <td>Casual</td>\n",
       "      <td>No warranty</td>\n",
       "      <td>No</td>\n",
       "      <td>No</td>\n",
       "      <td>26990</td>\n",
       "      <td>3 stars</td>\n",
       "      <td>0</td>\n",
       "      <td>0</td>\n",
       "    </tr>\n",
       "  </tbody>\n",
       "</table>\n",
       "</div>"
      ],
      "text/plain": [
       "    brand processor_brand processor_name processor_gnrtn ram_gb ram_type  \\\n",
       "0    ASUS           Intel        Core i3            10th   4 GB     DDR4   \n",
       "1  Lenovo           Intel        Core i3            10th   4 GB     DDR4   \n",
       "2  Lenovo           Intel        Core i3            10th   4 GB     DDR4   \n",
       "3    ASUS           Intel        Core i5            10th   8 GB     DDR4   \n",
       "4    ASUS           Intel   Celeron Dual   Not Available   4 GB     DDR4   \n",
       "\n",
       "      ssd      hdd       os  os_bit graphic_card_gb  weight     warranty  \\\n",
       "0    0 GB  1024 GB  Windows  64-bit            0 GB  Casual  No warranty   \n",
       "1    0 GB  1024 GB  Windows  64-bit            0 GB  Casual  No warranty   \n",
       "2    0 GB  1024 GB  Windows  64-bit            0 GB  Casual  No warranty   \n",
       "3  512 GB     0 GB  Windows  32-bit            2 GB  Casual  No warranty   \n",
       "4    0 GB   512 GB  Windows  64-bit            0 GB  Casual  No warranty   \n",
       "\n",
       "  Touchscreen msoffice  Price   rating  Number of Ratings  Number of Reviews  \n",
       "0          No       No  34649  2 stars                  3                  0  \n",
       "1          No       No  38999  3 stars                 65                  5  \n",
       "2          No       No  39999  3 stars                  8                  1  \n",
       "3          No       No  69990  3 stars                  0                  0  \n",
       "4          No       No  26990  3 stars                  0                  0  "
      ]
     },
     "execution_count": 46,
     "metadata": {},
     "output_type": "execute_result"
    }
   ],
   "source": [
    "df.head()"
   ]
  },
  {
   "cell_type": "code",
   "execution_count": 47,
   "id": "6bd49ef6",
   "metadata": {},
   "outputs": [
    {
     "data": {
      "text/html": [
       "<div>\n",
       "<style scoped>\n",
       "    .dataframe tbody tr th:only-of-type {\n",
       "        vertical-align: middle;\n",
       "    }\n",
       "\n",
       "    .dataframe tbody tr th {\n",
       "        vertical-align: top;\n",
       "    }\n",
       "\n",
       "    .dataframe thead th {\n",
       "        text-align: right;\n",
       "    }\n",
       "</style>\n",
       "<table border=\"1\" class=\"dataframe\">\n",
       "  <thead>\n",
       "    <tr style=\"text-align: right;\">\n",
       "      <th></th>\n",
       "      <th>brand</th>\n",
       "      <th>processor_brand</th>\n",
       "      <th>processor_name</th>\n",
       "      <th>processor_gnrtn</th>\n",
       "      <th>ram_gb</th>\n",
       "      <th>ram_type</th>\n",
       "      <th>ssd</th>\n",
       "      <th>hdd</th>\n",
       "      <th>os</th>\n",
       "      <th>os_bit</th>\n",
       "      <th>graphic_card_gb</th>\n",
       "      <th>weight</th>\n",
       "      <th>warranty</th>\n",
       "      <th>Touchscreen</th>\n",
       "      <th>msoffice</th>\n",
       "      <th>Price</th>\n",
       "      <th>rating</th>\n",
       "      <th>Number of Ratings</th>\n",
       "      <th>Number of Reviews</th>\n",
       "    </tr>\n",
       "  </thead>\n",
       "  <tbody>\n",
       "    <tr>\n",
       "      <th>818</th>\n",
       "      <td>ASUS</td>\n",
       "      <td>AMD</td>\n",
       "      <td>Ryzen 9</td>\n",
       "      <td>Not Available</td>\n",
       "      <td>4 GB</td>\n",
       "      <td>DDR4</td>\n",
       "      <td>1024 GB</td>\n",
       "      <td>0 GB</td>\n",
       "      <td>Windows</td>\n",
       "      <td>64-bit</td>\n",
       "      <td>0 GB</td>\n",
       "      <td>Casual</td>\n",
       "      <td>1 year</td>\n",
       "      <td>No</td>\n",
       "      <td>No</td>\n",
       "      <td>135990</td>\n",
       "      <td>3 stars</td>\n",
       "      <td>0</td>\n",
       "      <td>0</td>\n",
       "    </tr>\n",
       "    <tr>\n",
       "      <th>819</th>\n",
       "      <td>ASUS</td>\n",
       "      <td>AMD</td>\n",
       "      <td>Ryzen 9</td>\n",
       "      <td>Not Available</td>\n",
       "      <td>4 GB</td>\n",
       "      <td>DDR4</td>\n",
       "      <td>1024 GB</td>\n",
       "      <td>0 GB</td>\n",
       "      <td>Windows</td>\n",
       "      <td>64-bit</td>\n",
       "      <td>0 GB</td>\n",
       "      <td>Casual</td>\n",
       "      <td>1 year</td>\n",
       "      <td>No</td>\n",
       "      <td>No</td>\n",
       "      <td>144990</td>\n",
       "      <td>3 stars</td>\n",
       "      <td>0</td>\n",
       "      <td>0</td>\n",
       "    </tr>\n",
       "    <tr>\n",
       "      <th>820</th>\n",
       "      <td>ASUS</td>\n",
       "      <td>AMD</td>\n",
       "      <td>Ryzen 9</td>\n",
       "      <td>Not Available</td>\n",
       "      <td>4 GB</td>\n",
       "      <td>DDR4</td>\n",
       "      <td>1024 GB</td>\n",
       "      <td>0 GB</td>\n",
       "      <td>Windows</td>\n",
       "      <td>64-bit</td>\n",
       "      <td>4 GB</td>\n",
       "      <td>Casual</td>\n",
       "      <td>1 year</td>\n",
       "      <td>No</td>\n",
       "      <td>No</td>\n",
       "      <td>149990</td>\n",
       "      <td>3 stars</td>\n",
       "      <td>0</td>\n",
       "      <td>0</td>\n",
       "    </tr>\n",
       "    <tr>\n",
       "      <th>821</th>\n",
       "      <td>ASUS</td>\n",
       "      <td>AMD</td>\n",
       "      <td>Ryzen 9</td>\n",
       "      <td>Not Available</td>\n",
       "      <td>4 GB</td>\n",
       "      <td>DDR4</td>\n",
       "      <td>1024 GB</td>\n",
       "      <td>0 GB</td>\n",
       "      <td>Windows</td>\n",
       "      <td>64-bit</td>\n",
       "      <td>4 GB</td>\n",
       "      <td>Casual</td>\n",
       "      <td>1 year</td>\n",
       "      <td>No</td>\n",
       "      <td>No</td>\n",
       "      <td>142990</td>\n",
       "      <td>3 stars</td>\n",
       "      <td>0</td>\n",
       "      <td>0</td>\n",
       "    </tr>\n",
       "    <tr>\n",
       "      <th>822</th>\n",
       "      <td>Lenovo</td>\n",
       "      <td>AMD</td>\n",
       "      <td>Ryzen 5</td>\n",
       "      <td>10th</td>\n",
       "      <td>8 GB</td>\n",
       "      <td>DDR4</td>\n",
       "      <td>512 GB</td>\n",
       "      <td>0 GB</td>\n",
       "      <td>DOS</td>\n",
       "      <td>64-bit</td>\n",
       "      <td>0 GB</td>\n",
       "      <td>ThinNlight</td>\n",
       "      <td>No warranty</td>\n",
       "      <td>No</td>\n",
       "      <td>No</td>\n",
       "      <td>57490</td>\n",
       "      <td>4 stars</td>\n",
       "      <td>18</td>\n",
       "      <td>4</td>\n",
       "    </tr>\n",
       "  </tbody>\n",
       "</table>\n",
       "</div>"
      ],
      "text/plain": [
       "      brand processor_brand processor_name processor_gnrtn ram_gb ram_type  \\\n",
       "818    ASUS             AMD        Ryzen 9   Not Available   4 GB     DDR4   \n",
       "819    ASUS             AMD        Ryzen 9   Not Available   4 GB     DDR4   \n",
       "820    ASUS             AMD        Ryzen 9   Not Available   4 GB     DDR4   \n",
       "821    ASUS             AMD        Ryzen 9   Not Available   4 GB     DDR4   \n",
       "822  Lenovo             AMD        Ryzen 5            10th   8 GB     DDR4   \n",
       "\n",
       "         ssd   hdd       os  os_bit graphic_card_gb      weight     warranty  \\\n",
       "818  1024 GB  0 GB  Windows  64-bit            0 GB      Casual       1 year   \n",
       "819  1024 GB  0 GB  Windows  64-bit            0 GB      Casual       1 year   \n",
       "820  1024 GB  0 GB  Windows  64-bit            4 GB      Casual       1 year   \n",
       "821  1024 GB  0 GB  Windows  64-bit            4 GB      Casual       1 year   \n",
       "822   512 GB  0 GB      DOS  64-bit            0 GB  ThinNlight  No warranty   \n",
       "\n",
       "    Touchscreen msoffice   Price   rating  Number of Ratings  \\\n",
       "818          No       No  135990  3 stars                  0   \n",
       "819          No       No  144990  3 stars                  0   \n",
       "820          No       No  149990  3 stars                  0   \n",
       "821          No       No  142990  3 stars                  0   \n",
       "822          No       No   57490  4 stars                 18   \n",
       "\n",
       "     Number of Reviews  \n",
       "818                  0  \n",
       "819                  0  \n",
       "820                  0  \n",
       "821                  0  \n",
       "822                  4  "
      ]
     },
     "execution_count": 47,
     "metadata": {},
     "output_type": "execute_result"
    }
   ],
   "source": [
    "df.tail()"
   ]
  },
  {
   "cell_type": "markdown",
   "id": "3011501c",
   "metadata": {},
   "source": [
    "# Feature Engineering"
   ]
  },
  {
   "cell_type": "code",
   "execution_count": 48,
   "id": "1f5881d4",
   "metadata": {},
   "outputs": [
    {
     "data": {
      "text/plain": [
       "brand                0\n",
       "processor_brand      0\n",
       "processor_name       0\n",
       "processor_gnrtn      0\n",
       "ram_gb               0\n",
       "ram_type             0\n",
       "ssd                  0\n",
       "hdd                  0\n",
       "os                   0\n",
       "os_bit               0\n",
       "graphic_card_gb      0\n",
       "weight               0\n",
       "warranty             0\n",
       "Touchscreen          0\n",
       "msoffice             0\n",
       "Price                0\n",
       "rating               0\n",
       "Number of Ratings    0\n",
       "Number of Reviews    0\n",
       "dtype: int64"
      ]
     },
     "execution_count": 48,
     "metadata": {},
     "output_type": "execute_result"
    }
   ],
   "source": [
    "df.isnull().sum()"
   ]
  },
  {
   "cell_type": "code",
   "execution_count": 49,
   "id": "5c8c27b0",
   "metadata": {},
   "outputs": [
    {
     "name": "stdout",
     "output_type": "stream",
     "text": [
      "['4 GB' '8 GB' '16 GB' '32 GB']\n",
      "['0 GB' '512 GB' '256 GB' '128 GB' '1024 GB' '2048 GB' '3072 GB']\n",
      "['1024 GB' '0 GB' '512 GB' '2048 GB']\n",
      "['64-bit' '32-bit']\n"
     ]
    }
   ],
   "source": [
    "print(df['ram_gb'].unique())\n",
    "print(df['ssd'].unique())\n",
    "print(df['hdd'].unique())\n",
    "print(df['os_bit'].unique())"
   ]
  },
  {
   "cell_type": "code",
   "execution_count": 50,
   "id": "fe303087",
   "metadata": {},
   "outputs": [],
   "source": [
    "df['ram_gb'] = df['ram_gb'].str.replace('32 GB','16 GB').str.replace('GB','')\n",
    "df['ram_gb'] = df['ram_gb'].astype('int')"
   ]
  },
  {
   "cell_type": "code",
   "execution_count": 51,
   "id": "e1fdb458",
   "metadata": {},
   "outputs": [],
   "source": [
    "replace_dict = {'128 GB': '1024 GB', '2048 GB': '1024 GB','3072 GB':'1024 GB'}\n",
    "df['ssd'].replace(replace_dict, inplace=True)\n",
    "df['ssd'] = df['ssd'].str.replace('GB','')\n",
    "df['ssd'] = df['ssd'].astype(int)"
   ]
  },
  {
   "cell_type": "code",
   "execution_count": 52,
   "id": "b9908e96",
   "metadata": {},
   "outputs": [],
   "source": [
    "replace_dict = {'2048 GB': '1024 GB', '512 GB': '1024 GB', 'GB': ''}\n",
    "df['hdd'].replace(replace_dict, inplace=True)\n",
    "df['hdd'] = df['hdd'].str.replace('GB','')\n",
    "df['hdd'] = df['hdd'].astype(int)"
   ]
  },
  {
   "cell_type": "code",
   "execution_count": 53,
   "id": "3583d0b9",
   "metadata": {},
   "outputs": [],
   "source": [
    "df['os_bit'] = df['os_bit'].str.replace('-bit', '')\n",
    "df['os_bit'] = df['os_bit'].astype(int)"
   ]
  },
  {
   "cell_type": "code",
   "execution_count": 54,
   "id": "eb6b7531",
   "metadata": {},
   "outputs": [],
   "source": [
    "replace_dict = {'2 GB': '4 GB', '6 GB':'4 GB', '8 GB': '4 GB'}\n",
    "df['graphic_card_gb'] = df['graphic_card_gb'].str.replace('GB','')\n",
    "df['graphic_card_gb'].replace(replace_dict, inplace=True)\n",
    "df['graphic_card_gb'] = df['graphic_card_gb'].astype(int)"
   ]
  },
  {
   "cell_type": "code",
   "execution_count": 55,
   "id": "652307f9",
   "metadata": {},
   "outputs": [],
   "source": [
    "df.drop(['warranty','msoffice','rating','Number of Ratings','Number of Reviews'],axis=1,inplace=True)"
   ]
  },
  {
   "cell_type": "code",
   "execution_count": 56,
   "id": "bc7a7e4f",
   "metadata": {},
   "outputs": [
    {
     "name": "stdout",
     "output_type": "stream",
     "text": [
      "<class 'pandas.core.frame.DataFrame'>\n",
      "RangeIndex: 823 entries, 0 to 822\n",
      "Data columns (total 14 columns):\n",
      " #   Column           Non-Null Count  Dtype \n",
      "---  ------           --------------  ----- \n",
      " 0   brand            823 non-null    object\n",
      " 1   processor_brand  823 non-null    object\n",
      " 2   processor_name   823 non-null    object\n",
      " 3   processor_gnrtn  823 non-null    object\n",
      " 4   ram_gb           823 non-null    int32 \n",
      " 5   ram_type         823 non-null    object\n",
      " 6   ssd              823 non-null    int32 \n",
      " 7   hdd              823 non-null    int32 \n",
      " 8   os               823 non-null    object\n",
      " 9   os_bit           823 non-null    int32 \n",
      " 10  graphic_card_gb  823 non-null    int32 \n",
      " 11  weight           823 non-null    object\n",
      " 12  Touchscreen      823 non-null    object\n",
      " 13  Price            823 non-null    int64 \n",
      "dtypes: int32(5), int64(1), object(8)\n",
      "memory usage: 74.1+ KB\n"
     ]
    }
   ],
   "source": [
    "df.info()"
   ]
  },
  {
   "cell_type": "code",
   "execution_count": 57,
   "id": "5bfba20d",
   "metadata": {},
   "outputs": [
    {
     "data": {
      "image/png": "[encoded data removed]",
      "text/plain": [
       "<Figure size 640x480 with 1 Axes>"
      ]
     },
     "metadata": {},
     "output_type": "display_data"
    }
   ],
   "source": [
    "sns.boxplot(data=df)\n",
    "plt.show()"
   ]
  },
  {
   "cell_type": "code",
   "execution_count": 58,
   "id": "882dd59e",
   "metadata": {},
   "outputs": [],
   "source": [
    "replace_dict = {'acer': 'Other', 'MSI': 'Other', 'APPLE': 'Other','Avita':'Other'}\n",
    "df['brand'].replace(replace_dict, inplace=True)"
   ]
  },
  {
   "cell_type": "code",
   "execution_count": 59,
   "id": "92393ea4",
   "metadata": {},
   "outputs": [],
   "source": [
    "df['processor_brand'] = df['processor_brand'].str.replace('M1', 'AMD')"
   ]
  },
  {
   "cell_type": "code",
   "execution_count": 60,
   "id": "50a83a88",
   "metadata": {},
   "outputs": [],
   "source": [
    "replace_dict = {'Core i9': 'Other', 'Pentium Quad': 'Other', 'M1': 'Other','Celeron Dual':'Other','Ryzen 9':'Other','Ryzen 3':'Ryzen 7'}\n",
    "df['processor_name'].replace(replace_dict, inplace=True)"
   ]
  },
  {
   "cell_type": "code",
   "execution_count": 61,
   "id": "14dfc6e4",
   "metadata": {},
   "outputs": [],
   "source": [
    "replace_dict = {'4th': 'Other', '12th': 'Other', '9th': 'Other','7th':'Other','8th':'Other','Not Available':'Other'}\n",
    "df['processor_gnrtn'].replace(replace_dict, inplace=True)"
   ]
  },
  {
   "cell_type": "code",
   "execution_count": 62,
   "id": "64f70420",
   "metadata": {},
   "outputs": [],
   "source": [
    "replace_dict = {'LPDDR4X': 'Other', 'LPDDR4': 'Other', 'LPDDR3': 'Other','DDR5':'Other','DDR3':'Other'}\n",
    "df['ram_type'].replace(replace_dict, inplace=True)"
   ]
  },
  {
   "cell_type": "code",
   "execution_count": 63,
   "id": "4a3102a1",
   "metadata": {},
   "outputs": [],
   "source": [
    "replace_dict = {'Mac': 'Other', 'DOS': 'Other'}\n",
    "df['os'].replace(replace_dict, inplace=True)"
   ]
  },
  {
   "cell_type": "code",
   "execution_count": 64,
   "id": "369a4333",
   "metadata": {},
   "outputs": [],
   "source": [
    "replace_dict = {'Gaming': 'ThinNlight'}\n",
    "df['weight'].replace(replace_dict, inplace=True)"
   ]
  },
  {
   "cell_type": "code",
   "execution_count": 65,
   "id": "d3150e79",
   "metadata": {},
   "outputs": [
    {
     "data": {
      "text/html": [
       "<div>\n",
       "<style scoped>\n",
       "    .dataframe tbody tr th:only-of-type {\n",
       "        vertical-align: middle;\n",
       "    }\n",
       "\n",
       "    .dataframe tbody tr th {\n",
       "        vertical-align: top;\n",
       "    }\n",
       "\n",
       "    .dataframe thead th {\n",
       "        text-align: right;\n",
       "    }\n",
       "</style>\n",
       "<table border=\"1\" class=\"dataframe\">\n",
       "  <thead>\n",
       "    <tr style=\"text-align: right;\">\n",
       "      <th></th>\n",
       "      <th>brand</th>\n",
       "      <th>processor_brand</th>\n",
       "      <th>processor_name</th>\n",
       "      <th>processor_gnrtn</th>\n",
       "      <th>ram_gb</th>\n",
       "      <th>ram_type</th>\n",
       "      <th>ssd</th>\n",
       "      <th>hdd</th>\n",
       "      <th>os</th>\n",
       "      <th>os_bit</th>\n",
       "      <th>graphic_card_gb</th>\n",
       "      <th>weight</th>\n",
       "      <th>Touchscreen</th>\n",
       "      <th>Price</th>\n",
       "    </tr>\n",
       "  </thead>\n",
       "  <tbody>\n",
       "    <tr>\n",
       "      <th>121</th>\n",
       "      <td>ASUS</td>\n",
       "      <td>Intel</td>\n",
       "      <td>Core i3</td>\n",
       "      <td>11th</td>\n",
       "      <td>4</td>\n",
       "      <td>DDR4</td>\n",
       "      <td>512</td>\n",
       "      <td>0</td>\n",
       "      <td>Windows</td>\n",
       "      <td>64</td>\n",
       "      <td>0</td>\n",
       "      <td>Casual</td>\n",
       "      <td>No</td>\n",
       "      <td>44890</td>\n",
       "    </tr>\n",
       "    <tr>\n",
       "      <th>479</th>\n",
       "      <td>Other</td>\n",
       "      <td>Intel</td>\n",
       "      <td>Core i7</td>\n",
       "      <td>Other</td>\n",
       "      <td>8</td>\n",
       "      <td>DDR4</td>\n",
       "      <td>256</td>\n",
       "      <td>0</td>\n",
       "      <td>Windows</td>\n",
       "      <td>64</td>\n",
       "      <td>0</td>\n",
       "      <td>ThinNlight</td>\n",
       "      <td>No</td>\n",
       "      <td>73990</td>\n",
       "    </tr>\n",
       "    <tr>\n",
       "      <th>813</th>\n",
       "      <td>ASUS</td>\n",
       "      <td>AMD</td>\n",
       "      <td>Other</td>\n",
       "      <td>Other</td>\n",
       "      <td>4</td>\n",
       "      <td>DDR4</td>\n",
       "      <td>1024</td>\n",
       "      <td>0</td>\n",
       "      <td>Windows</td>\n",
       "      <td>64</td>\n",
       "      <td>4</td>\n",
       "      <td>Casual</td>\n",
       "      <td>No</td>\n",
       "      <td>162990</td>\n",
       "    </tr>\n",
       "    <tr>\n",
       "      <th>123</th>\n",
       "      <td>HP</td>\n",
       "      <td>Intel</td>\n",
       "      <td>Core i3</td>\n",
       "      <td>11th</td>\n",
       "      <td>4</td>\n",
       "      <td>DDR4</td>\n",
       "      <td>512</td>\n",
       "      <td>0</td>\n",
       "      <td>Windows</td>\n",
       "      <td>32</td>\n",
       "      <td>0</td>\n",
       "      <td>ThinNlight</td>\n",
       "      <td>No</td>\n",
       "      <td>50990</td>\n",
       "    </tr>\n",
       "    <tr>\n",
       "      <th>368</th>\n",
       "      <td>ASUS</td>\n",
       "      <td>Intel</td>\n",
       "      <td>Core i5</td>\n",
       "      <td>11th</td>\n",
       "      <td>8</td>\n",
       "      <td>Other</td>\n",
       "      <td>512</td>\n",
       "      <td>0</td>\n",
       "      <td>Windows</td>\n",
       "      <td>64</td>\n",
       "      <td>0</td>\n",
       "      <td>Casual</td>\n",
       "      <td>Yes</td>\n",
       "      <td>114990</td>\n",
       "    </tr>\n",
       "  </tbody>\n",
       "</table>\n",
       "</div>"
      ],
      "text/plain": [
       "     brand processor_brand processor_name processor_gnrtn  ram_gb ram_type  \\\n",
       "121   ASUS           Intel        Core i3            11th       4     DDR4   \n",
       "479  Other           Intel        Core i7           Other       8     DDR4   \n",
       "813   ASUS             AMD          Other           Other       4     DDR4   \n",
       "123     HP           Intel        Core i3            11th       4     DDR4   \n",
       "368   ASUS           Intel        Core i5            11th       8    Other   \n",
       "\n",
       "      ssd  hdd       os  os_bit  graphic_card_gb      weight Touchscreen  \\\n",
       "121   512    0  Windows      64                0      Casual          No   \n",
       "479   256    0  Windows      64                0  ThinNlight          No   \n",
       "813  1024    0  Windows      64                4      Casual          No   \n",
       "123   512    0  Windows      32                0  ThinNlight          No   \n",
       "368   512    0  Windows      64                0      Casual         Yes   \n",
       "\n",
       "      Price  \n",
       "121   44890  \n",
       "479   73990  \n",
       "813  162990  \n",
       "123   50990  \n",
       "368  114990  "
      ]
     },
     "execution_count": 65,
     "metadata": {},
     "output_type": "execute_result"
    }
   ],
   "source": [
    "df.sample(5)"
   ]
  },
  {
   "cell_type": "code",
   "execution_count": 66,
   "id": "eafea3b3",
   "metadata": {},
   "outputs": [],
   "source": [
    "df= df[df['Price'] <= 400000]"
   ]
  },
  {
   "cell_type": "code",
   "execution_count": 67,
   "id": "2bedeed8",
   "metadata": {},
   "outputs": [
    {
     "data": {
      "image/png": "[encoded data removed]",
      "text/plain": [
       "<Figure size 1800x600 with 1 Axes>"
      ]
     },
     "metadata": {},
     "output_type": "display_data"
    }
   ],
   "source": [
    "plt.figure(figsize=(18,6))\n",
    "sns.boxplot(x=df['brand'],y=df['Price'],data=df)\n",
    "plt.show()"
   ]
  },
  {
   "cell_type": "code",
   "execution_count": 68,
   "id": "20a31e3d",
   "metadata": {},
   "outputs": [
    {
     "data": {
      "image/png": "[encoded data removed]",
      "text/plain": [
       "<Figure size 640x480 with 1 Axes>"
      ]
     },
     "metadata": {},
     "output_type": "display_data"
    }
   ],
   "source": [
    "sns.countplot(x=df['brand'],data=df)\n",
    "plt.show()"
   ]
  },
  {
   "cell_type": "code",
   "execution_count": 69,
   "id": "a2c2ad82",
   "metadata": {},
   "outputs": [
    {
     "data": {
      "image/png": "[encoded data removed]",
      "text/plain": [
       "<Figure size 1800x600 with 1 Axes>"
      ]
     },
     "metadata": {},
     "output_type": "display_data"
    }
   ],
   "source": [
    "plt.figure(figsize=(18,6))\n",
    "sns.histplot(x=df['Price'],bins=200,data=df,kde=True)\n",
    "plt.show()"
   ]
  },
  {
   "cell_type": "code",
   "execution_count": 70,
   "id": "3f2a3daf",
   "metadata": {},
   "outputs": [
    {
     "data": {
      "image/png": "[encoded data removed]",
      "text/plain": [
       "<Figure size 640x480 with 1 Axes>"
      ]
     },
     "metadata": {},
     "output_type": "display_data"
    }
   ],
   "source": [
    "sns.boxplot(data=df)\n",
    "plt.show()"
   ]
  },
  {
   "cell_type": "code",
   "execution_count": 71,
   "id": "03d7ec55",
   "metadata": {},
   "outputs": [],
   "source": [
    "X=df.drop('Price', axis=1)\n",
    "Y=df['Price']"
   ]
  },
  {
   "cell_type": "code",
   "execution_count": 72,
   "id": "47ad9bba",
   "metadata": {},
   "outputs": [
    {
     "data": {
      "text/html": [
       "<div>\n",
       "<style scoped>\n",
       "    .dataframe tbody tr th:only-of-type {\n",
       "        vertical-align: middle;\n",
       "    }\n",
       "\n",
       "    .dataframe tbody tr th {\n",
       "        vertical-align: top;\n",
       "    }\n",
       "\n",
       "    .dataframe thead th {\n",
       "        text-align: right;\n",
       "    }\n",
       "</style>\n",
       "<table border=\"1\" class=\"dataframe\">\n",
       "  <thead>\n",
       "    <tr style=\"text-align: right;\">\n",
       "      <th></th>\n",
       "      <th>brand</th>\n",
       "      <th>processor_brand</th>\n",
       "      <th>processor_name</th>\n",
       "      <th>processor_gnrtn</th>\n",
       "      <th>ram_type</th>\n",
       "      <th>os</th>\n",
       "      <th>weight</th>\n",
       "      <th>Touchscreen</th>\n",
       "      <th>ram_gb</th>\n",
       "      <th>ssd</th>\n",
       "      <th>hdd</th>\n",
       "      <th>os_bit</th>\n",
       "      <th>graphic_card_gb</th>\n",
       "    </tr>\n",
       "  </thead>\n",
       "  <tbody>\n",
       "    <tr>\n",
       "      <th>0</th>\n",
       "      <td>ASUS</td>\n",
       "      <td>Intel</td>\n",
       "      <td>Core i3</td>\n",
       "      <td>10th</td>\n",
       "      <td>DDR4</td>\n",
       "      <td>Windows</td>\n",
       "      <td>Casual</td>\n",
       "      <td>No</td>\n",
       "      <td>-1.096256</td>\n",
       "      <td>-1.521799</td>\n",
       "      <td>1.751944</td>\n",
       "      <td>0.388922</td>\n",
       "      <td>-0.586609</td>\n",
       "    </tr>\n",
       "    <tr>\n",
       "      <th>1</th>\n",
       "      <td>Lenovo</td>\n",
       "      <td>Intel</td>\n",
       "      <td>Core i3</td>\n",
       "      <td>10th</td>\n",
       "      <td>DDR4</td>\n",
       "      <td>Windows</td>\n",
       "      <td>Casual</td>\n",
       "      <td>No</td>\n",
       "      <td>-1.096256</td>\n",
       "      <td>-1.521799</td>\n",
       "      <td>1.751944</td>\n",
       "      <td>0.388922</td>\n",
       "      <td>-0.586609</td>\n",
       "    </tr>\n",
       "    <tr>\n",
       "      <th>2</th>\n",
       "      <td>Lenovo</td>\n",
       "      <td>Intel</td>\n",
       "      <td>Core i3</td>\n",
       "      <td>10th</td>\n",
       "      <td>DDR4</td>\n",
       "      <td>Windows</td>\n",
       "      <td>Casual</td>\n",
       "      <td>No</td>\n",
       "      <td>-1.096256</td>\n",
       "      <td>-1.521799</td>\n",
       "      <td>1.751944</td>\n",
       "      <td>0.388922</td>\n",
       "      <td>-0.586609</td>\n",
       "    </tr>\n",
       "    <tr>\n",
       "      <th>3</th>\n",
       "      <td>ASUS</td>\n",
       "      <td>Intel</td>\n",
       "      <td>Core i5</td>\n",
       "      <td>10th</td>\n",
       "      <td>DDR4</td>\n",
       "      <td>Windows</td>\n",
       "      <td>Casual</td>\n",
       "      <td>No</td>\n",
       "      <td>-0.149699</td>\n",
       "      <td>0.210775</td>\n",
       "      <td>-0.570795</td>\n",
       "      <td>-2.571208</td>\n",
       "      <td>0.403519</td>\n",
       "    </tr>\n",
       "    <tr>\n",
       "      <th>4</th>\n",
       "      <td>ASUS</td>\n",
       "      <td>Intel</td>\n",
       "      <td>Other</td>\n",
       "      <td>Other</td>\n",
       "      <td>DDR4</td>\n",
       "      <td>Windows</td>\n",
       "      <td>Casual</td>\n",
       "      <td>No</td>\n",
       "      <td>-1.096256</td>\n",
       "      <td>-1.521799</td>\n",
       "      <td>1.751944</td>\n",
       "      <td>0.388922</td>\n",
       "      <td>-0.586609</td>\n",
       "    </tr>\n",
       "  </tbody>\n",
       "</table>\n",
       "</div>"
      ],
      "text/plain": [
       "    brand processor_brand processor_name processor_gnrtn ram_type       os  \\\n",
       "0    ASUS           Intel        Core i3            10th     DDR4  Windows   \n",
       "1  Lenovo           Intel        Core i3            10th     DDR4  Windows   \n",
       "2  Lenovo           Intel        Core i3            10th     DDR4  Windows   \n",
       "3    ASUS           Intel        Core i5            10th     DDR4  Windows   \n",
       "4    ASUS           Intel          Other           Other     DDR4  Windows   \n",
       "\n",
       "   weight Touchscreen    ram_gb       ssd       hdd    os_bit  graphic_card_gb  \n",
       "0  Casual          No -1.096256 -1.521799  1.751944  0.388922        -0.586609  \n",
       "1  Casual          No -1.096256 -1.521799  1.751944  0.388922        -0.586609  \n",
       "2  Casual          No -1.096256 -1.521799  1.751944  0.388922        -0.586609  \n",
       "3  Casual          No -0.149699  0.210775 -0.570795 -2.571208         0.403519  \n",
       "4  Casual          No -1.096256 -1.521799  1.751944  0.388922        -0.586609  "
      ]
     },
     "execution_count": 72,
     "metadata": {},
     "output_type": "execute_result"
    }
   ],
   "source": [
    "from sklearn.preprocessing import StandardScaler\n",
    "target_col_name='Price'\n",
    "col_for_scaled=[]\n",
    "all_col_nm=X.select_dtypes(include=['int64','int32','float64','float32']).columns.tolist()\n",
    "\n",
    "for i in range(len(all_col_nm)):\n",
    "    xx=list(X[all_col_nm[i]].unique())\n",
    "    \n",
    "    if max(xx)>2:\n",
    "        if all_col_nm[i]==target_col_name:\n",
    "            pass\n",
    "        else:\n",
    "            col_for_scaled.append(all_col_nm[i])\n",
    "    else:\n",
    "        pass\n",
    "    \n",
    "x_cols_for_scale=X[col_for_scaled]\n",
    "scaler = StandardScaler()\n",
    "scaler.fit(x_cols_for_scale)\n",
    "\n",
    "\n",
    "x_transform_dt = scaler.transform(x_cols_for_scale)\n",
    "x_scaled_df = pd.DataFrame(x_transform_dt, columns=col_for_scaled)\n",
    "X.drop(col_for_scaled,axis=1,inplace=True)\n",
    "X.reset_index(drop=True, inplace=True)\n",
    "x_scaled_df.reset_index(drop=True, inplace=True)\n",
    "X=pd.concat([X, x_scaled_df], axis=1)\n",
    "X.head()"
   ]
  },
  {
   "cell_type": "code",
   "execution_count": 73,
   "id": "8ee427c2",
   "metadata": {},
   "outputs": [],
   "source": [
    "from sklearn.preprocessing import LabelEncoder\n",
    "encoding=LabelEncoder()\n",
    "X[\"processor_brand\"]=encoding.fit_transform(X[\"processor_brand\"])\n",
    "X[\"processor_gnrtn\"]=encoding.fit_transform(X[\"processor_gnrtn\"])\n",
    "X[\"ram_type\"]=encoding.fit_transform(X[\"ram_type\"])\n",
    "X[\"os\"]=encoding.fit_transform(X[\"os\"])\n",
    "X[\"weight\"]=encoding.fit_transform(X[\"weight\"])\n",
    "X[\"Touchscreen\"]=encoding.fit_transform(X[\"Touchscreen\"])"
   ]
  },
  {
   "cell_type": "code",
   "execution_count": 74,
   "id": "a4eb5159",
   "metadata": {},
   "outputs": [
    {
     "name": "stderr",
     "output_type": "stream",
     "text": [
      "C:\\Users\\khali\\AppData\\Roaming\\Python\\Python310\\site-packages\\sklearn\\preprocessing\\_encoders.py:975: FutureWarning: `sparse` was renamed to `sparse_output` in version 1.2 and will be removed in 1.4. `sparse_output` is ignored unless you leave `sparse` to its default value.\n",
      "  warnings.warn(\n"
     ]
    }
   ],
   "source": [
    "from sklearn.preprocessing import OneHotEncoder\n",
    "numerical_cols = X.select_dtypes(include=['int', 'float']).columns.tolist()\n",
    "categorical_cols = X.select_dtypes(include=['object']).columns.tolist()\n",
    "\n",
    "encoder = OneHotEncoder(sparse=False, handle_unknown='ignore')\n",
    "\n",
    "# Fit and transform the categorical columns\n",
    "encoded_categorical = encoder.fit_transform(X[categorical_cols])\n",
    "\n",
    "# Create DataFrame with the encoded categorical columns\n",
    "encoded_df = pd.DataFrame(encoded_categorical, columns=encoder.get_feature_names_out(categorical_cols))\n",
    "\n",
    "# Combine encoded categorical columns with numerical columns\n",
    "X = pd.concat([X[numerical_cols], encoded_df], axis=1)"
   ]
  },
  {
   "cell_type": "markdown",
   "id": "2ea778b9",
   "metadata": {},
   "source": [
    "# Model Selection and Training"
   ]
  },
  {
   "cell_type": "code",
   "execution_count": 75,
   "id": "bc7245f9",
   "metadata": {},
   "outputs": [],
   "source": [
    "from sklearn.model_selection import train_test_split\n",
    "x_train,x_test,y_train,y_test=train_test_split(X,Y,test_size=0.2, random_state=1232224)"
   ]
  },
  {
   "cell_type": "code",
   "execution_count": 76,
   "id": "e90bd3de",
   "metadata": {},
   "outputs": [],
   "source": [
    "from sklearn.metrics import mean_squared_error, r2_score, mean_absolute_error"
   ]
  },
  {
   "cell_type": "code",
   "execution_count": 77,
   "id": "432768f6",
   "metadata": {},
   "outputs": [
    {
     "data": {
      "text/plain": [
       "0.7211462194564648"
      ]
     },
     "execution_count": 77,
     "metadata": {},
     "output_type": "execute_result"
    }
   ],
   "source": [
    "from sklearn.linear_model import LinearRegression\n",
    "lr=LinearRegression()\n",
    "lr.fit(x_train,y_train)\n",
    "lrtd=lr.predict(x_test)\n",
    "lrr2=r2_score(y_test,lrtd)\n",
    "lrr2"
   ]
  },
  {
   "cell_type": "code",
   "execution_count": 78,
   "id": "7750240c",
   "metadata": {},
   "outputs": [
    {
     "data": {
      "text/plain": [
       "-0.07154831954920104"
      ]
     },
     "execution_count": 78,
     "metadata": {},
     "output_type": "execute_result"
    }
   ],
   "source": [
    "from sklearn.svm import SVR as supportVectorRegressor\n",
    "svr=supportVectorRegressor() \n",
    "svr.fit(x_train,y_train)\n",
    "svrtd=svr.predict(x_test)\n",
    "svrr2=r2_score(y_test,svrtd)\n",
    "svrr2"
   ]
  },
  {
   "cell_type": "code",
   "execution_count": 79,
   "id": "2582509e",
   "metadata": {},
   "outputs": [
    {
     "data": {
      "text/plain": [
       "0.6373952738343241"
      ]
     },
     "execution_count": 79,
     "metadata": {},
     "output_type": "execute_result"
    }
   ],
   "source": [
    "from xgboost import XGBRegressor as xGBRegressor\n",
    "xgb = xGBRegressor() \n",
    "xgb.fit(x_train,y_train)\n",
    "xgbtd=xgb.predict(x_test)\n",
    "xgbr2=r2_score(y_test,xgbtd)\n",
    "xgbr2"
   ]
  },
  {
   "cell_type": "code",
   "execution_count": 80,
   "id": "0c3d4b3f",
   "metadata": {},
   "outputs": [
    {
     "data": {
      "text/plain": [
       "0.6546792623730142"
      ]
     },
     "execution_count": 80,
     "metadata": {},
     "output_type": "execute_result"
    }
   ],
   "source": [
    "from sklearn.ensemble import RandomForestRegressor as randomForestRegressor \n",
    "rfr=randomForestRegressor() \n",
    "rfr.fit(x_train,y_train)\n",
    "rfrtd=rfr.predict(x_test)\n",
    "rfrr2=r2_score(y_test,rfrtd)\n",
    "rfrr2"
   ]
  },
  {
   "cell_type": "code",
   "execution_count": 81,
   "id": "243a0b9a",
   "metadata": {},
   "outputs": [
    {
     "data": {
      "text/plain": [
       "0.7470981437222945"
      ]
     },
     "execution_count": 81,
     "metadata": {},
     "output_type": "execute_result"
    }
   ],
   "source": [
    "from sklearn.neighbors import KNeighborsRegressor as kNeighborsRegressor\n",
    "knn=kNeighborsRegressor() \n",
    "knn.fit(x_train,y_train)\n",
    "knntd=knn.predict(x_test)\n",
    "knnr2=r2_score(y_test,knntd)\n",
    "knnr2"
   ]
  },
  {
   "cell_type": "code",
   "execution_count": 82,
   "id": "16d59e5e",
   "metadata": {
    "scrolled": true
   },
   "outputs": [
    {
     "name": "stdout",
     "output_type": "stream",
     "text": [
      "Mean Squared Error (MSE): 1884036891.6820107\n",
      "Root Mean Squared Error (RMSE): 43405.49379608543\n",
      "Mean Absolute Error (MAE): 28495.757765962037\n",
      "R-squared (R2) Score: -0.07154831954920104\n",
      "1884036891.6820107\n"
     ]
    },
    {
     "data": {
      "image/png": "[encoded data removed]",
      "text/plain": [
       "<Figure size 640x480 with 1 Axes>"
      ]
     },
     "metadata": {},
     "output_type": "display_data"
    }
   ],
   "source": [
    "y_pred = svr.predict(x_test)\n",
    "\n",
    "# Calculate MSE\n",
    "mse = mean_squared_error(y_test, y_pred)\n",
    "print(\"Mean Squared Error (MSE):\", mse)\n",
    "\n",
    "# Calculate RMSE\n",
    "rmse = np.sqrt(mse)\n",
    "print(\"Root Mean Squared Error (RMSE):\", rmse)\n",
    "\n",
    "# Calculate MAE\n",
    "mae = mean_absolute_error(y_test, y_pred)\n",
    "print(\"Mean Absolute Error (MAE):\", mae)\n",
    "\n",
    "# Calculate R2 score\n",
    "r2 = r2_score(y_test, y_pred)\n",
    "print(\"R-squared (R2) Score:\", r2)\n",
    "\n",
    "\n",
    "\n",
    "\n",
    "\n",
    "# calculate the evaluation metrics\n",
    "mse = mean_squared_error(y_test, y_pred)\n",
    "print(mse)\n",
    "\n",
    "#********** Plot the residuals *************\\n\")\n",
    "residuals = y_test - y_pred\n",
    "plt.scatter(y_pred, residuals)\n",
    "plt.xlabel(\"Predicted Values\")\n",
    "plt.ylabel(\"Residuals\")\n",
    "plt.show()"
   ]
  },
  {
   "cell_type": "markdown",
   "id": "31439629",
   "metadata": {},
   "source": [
    "### Since K-Nearest Neighbor Regressor provides 100% accuracy, we utilize it for deployment."
   ]
  },
  {
   "cell_type": "code",
   "execution_count": null,
   "id": "c93f6130",
   "metadata": {},
   "outputs": [],
   "source": []
  }
 ],
 "metadata": {
  "kernelspec": {
   "display_name": "Python 3 (ipykernel)",
   "language": "python",
   "name": "python3"
  },
  "language_info": {
   "codemirror_mode": {
    "name": "ipython",
    "version": 3
   },
   "file_extension": ".py",
   "mimetype": "text/x-python",
   "name": "python",
   "nbconvert_exporter": "python",
   "pygments_lexer": "ipython3",
   "version": "3.10.9"
  }
 },
 "nbformat": 4,
 "nbformat_minor": 5
}
